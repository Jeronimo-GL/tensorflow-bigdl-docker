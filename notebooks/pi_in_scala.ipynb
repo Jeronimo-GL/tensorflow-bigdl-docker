{
 "cells": [
  {
   "cell_type": "code",
   "execution_count": null,
   "metadata": {},
   "outputs": [],
   "source": [
    "import scala.math.random"
   ]
  },
  {
   "cell_type": "code",
   "execution_count": null,
   "metadata": {},
   "outputs": [],
   "source": [
    "val slices = 2\n",
    "val n = math.min(100000L * slices, Int.MaxValue).toInt // avoid overflow\n",
    "val count = sc.parallelize(1 until n, slices).map { i =>\n",
    "  val x = random * 2 - 1\n",
    "  val y = random * 2 - 1\n",
    "  if (x*x + y*y <= 1) 1 else 0\n",
    "}.reduce(_ + _)\n",
    "println(s\"Pi is roughly ${4.0 * count / (n - 1)}\")"
   ]
  },
  {
   "cell_type": "code",
   "execution_count": null,
   "metadata": {},
   "outputs": [],
   "source": [
    "sc"
   ]
  },
  {
   "cell_type": "code",
   "execution_count": null,
   "metadata": {},
   "outputs": [],
   "source": []
  }
 ],
 "metadata": {
  "kernelspec": {
   "display_name": "Apache Toree - Scala",
   "language": "scala",
   "name": "apache_toree_scala"
  },
  "language_info": {
   "codemirror_mode": "text/x-scala",
   "file_extension": ".scala",
   "mimetype": "text/x-scala",
   "name": "scala",
   "pygments_lexer": "scala",
   "version": "2.11.12"
  }
 },
 "nbformat": 4,
 "nbformat_minor": 4
}
