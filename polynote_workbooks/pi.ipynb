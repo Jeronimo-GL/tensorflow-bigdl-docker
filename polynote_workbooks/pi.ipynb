{
  "metadata" : {
    "config" : {
      "dependencies" : {
        
      },
      "exclusions" : [
      ],
      "repositories" : [
      ],
      "sparkConfig" : {
        "spark.master" : "local[*]"
      },
      "env" : {
        
      }
    },
    "language_info" : {
      "name" : "scala"
    }
  },
  "nbformat" : 4,
  "nbformat_minor" : 0,
  "cells" : [
    {
      "cell_type" : "markdown",
      "execution_count" : 0,
      "metadata" : {
        "language" : "text"
      },
      "language" : "text",
      "source" : [
        "# pi\n",
        "\n"
      ],
      "outputs" : [
      ]
    },
    {
      "cell_type" : "code",
      "execution_count" : 2,
      "metadata" : {
        "cell.metadata.exec_info" : {
          "startTs" : 1633454520874,
          "endTs" : 1633454521733
        },
        "language" : "scala"
      },
      "language" : "scala",
      "source" : [
        "val NUM_SAMPLES = 1000000\n",
        "val sc = spark.sparkContext\n",
        "val count = sc.parallelize(1 to NUM_SAMPLES).filter { _ =>\n",
        "  val x = math.random\n",
        "  val y = math.random\n",
        "  x*x + y*y < 1\n",
        "}.count()\n",
        "println(s\"Pi is roughly: ${4.0 * count / NUM_SAMPLES}\")\n"
      ],
      "outputs" : [
        {
          "name" : "stdout",
          "text" : [
            "Pi is roughly: 3.14062\n"
          ],
          "output_type" : "stream"
        }
      ]
    }
  ]
}